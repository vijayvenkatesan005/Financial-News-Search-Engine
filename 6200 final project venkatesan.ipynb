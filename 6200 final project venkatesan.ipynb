{
 "cells": [
  {
   "cell_type": "code",
   "execution_count": 126,
   "metadata": {},
   "outputs": [],
   "source": [
    "from elasticsearch import Elasticsearch\n",
    "from datetime import datetime\n",
    "from flask import Flask, render_template, request\n",
    "import csv\n",
    "import re\n"
   ]
  },
  {
   "cell_type": "code",
   "execution_count": 127,
   "metadata": {},
   "outputs": [
    {
     "name": "stderr",
     "output_type": "stream",
     "text": [
      "C:\\Users\\vijay\\AppData\\Local\\Temp\\ipykernel_36848\\2575928368.py:1: DeprecationWarning: The 'http_auth' parameter is deprecated. Use 'basic_auth' or 'bearer_auth' parameters instead\n",
      "  es = Elasticsearch([{'host': 'localhost', 'port':9200, 'scheme': 'http'}], http_auth=(\"vijay\", \"password\"))\n"
     ]
    },
    {
     "data": {
      "text/plain": [
       "ObjectApiResponse({'name': 'BOOK-GM09OBS762', 'cluster_name': 'elasticsearch', 'cluster_uuid': 'vJxnvQteTUeURso4lvYqKw', 'version': {'number': '8.10.4', 'build_flavor': 'default', 'build_type': 'zip', 'build_hash': 'b4a62ac808e886ff032700c391f45f1408b2538c', 'build_date': '2023-10-11T22:04:35.506990650Z', 'build_snapshot': False, 'lucene_version': '9.7.0', 'minimum_wire_compatibility_version': '7.17.0', 'minimum_index_compatibility_version': '7.0.0'}, 'tagline': 'You Know, for Search'})"
      ]
     },
     "execution_count": 127,
     "metadata": {},
     "output_type": "execute_result"
    }
   ],
   "source": [
    "\n",
    "es = Elasticsearch([{'host': 'localhost', 'port':9200, 'scheme': 'http'}], http_auth=(\"vijay\", \"password\"))\n",
    "es.info()"
   ]
  },
  {
   "cell_type": "code",
   "execution_count": 128,
   "metadata": {},
   "outputs": [
    {
     "name": "stdout",
     "output_type": "stream",
     "text": [
      "[{'News Organization': 'CNBC', 'Headlines': 'Jim Cramer: A better way to invest in the Covid-19 vaccine gold rush', 'Time': ' 7:51  PM ET Fri, 17 July 2020', 'Description': '\"Mad Money\" host Jim Cramer recommended buying four companies that are supporting vaccine developers.'}, {'News Organization': 'CNBC', 'Headlines': \"Cramer's lightning round: I would own Teradyne\", 'Time': ' 7:33  PM ET Fri, 17 July 2020', 'Description': '\"Mad Money\" host Jim Cramer rings the lightning round bell, which means he\\'s giving his answers to callers\\' stock questions at rapid speed.'}, {'News Organization': 'CNBC', 'Headlines': '', 'Time': '', 'Description': ''}, {'News Organization': 'CNBC', 'Headlines': \"Cramer's week ahead: Big week for earnings, even bigger week for vaccines\", 'Time': ' 7:25  PM ET Fri, 17 July 2020', 'Description': '\"We\\'ll pay more for the earnings of the non-Covid companies if The Lancet publishes some good news from AstraZeneca\\'s vaccine trial,\" Cramer said.'}, {'News Organization': 'CNBC', 'Headlines': 'IQ Capital CEO Keith Bliss says tech and healthcare will rally', 'Time': ' 4:24  PM ET Fri, 17 July 2020', 'Description': 'Keith Bliss, IQ Capital CEO, joins \"Closing Bell\" to talk about the broader markets, including the performance of the S&P 500 and the Nasdaq.'}, {'News Organization': 'CNBC', 'Headlines': \"Wall Street delivered the 'kind of pullback I've been waiting for,' Jim Cramer says\", 'Time': ' 7:36  PM ET Thu, 16 July 2020', 'Description': '\"Look for the stocks of high-quality companies that are going lower even though they deserve to go higher,\" the \"Mad Money\" host advised.'}, {'News Organization': 'CNBC', 'Headlines': \"Cramer's lightning round: I would just stay long Wex\", 'Time': ' 7:23  PM ET Thu, 16 July 2020', 'Description': '\"Mad Money\" host Jim Cramer rings the lightning round bell, which means he\\'s giving his answers to callers\\' stock questions at rapid speed.'}, {'News Organization': 'CNBC', 'Headlines': \"Acorns CEO: Parents can turn $5 into five figures for their kids through 'power of compounding'\", 'Time': ' 8:03  PM ET Thu, 16 July 2020', 'Description': 'Investing $5 per day can compound to $70,000 by the time a child reaches adulthood, said Noah Kerner, CEO of micro-investing app Acorns.'}, {'News Organization': 'CNBC', 'Headlines': 'Dividend cuts may mean rethinking your retirement income strategy', 'Time': ' 8:54  AM ET Thu, 16 July 2020', 'Description': 'Hundreds of companies have cut or suspended their dividends so far this year, and the second half of the year is when investors will feel those reductions the most.'}, {'News Organization': 'CNBC', 'Headlines': '', 'Time': '', 'Description': ''}]\n",
      "\n",
      "[{'News Organization': 'The Guardian', 'Time': '18-Jul-20', 'Headlines': 'Johnson is asking Santa for a Christmas recovery'}, {'News Organization': 'The Guardian', 'Time': '18-Jul-20', 'Headlines': '‘I now fear the worst’: four grim tales of working life upended by Covid-19'}, {'News Organization': 'The Guardian', 'Time': '18-Jul-20', 'Headlines': 'Five key areas Sunak must tackle to serve up economic recovery'}, {'News Organization': 'The Guardian', 'Time': '18-Jul-20', 'Headlines': 'Covid-19 leaves firms ‘fatally ill-prepared’ for no-deal Brexit'}, {'News Organization': 'The Guardian', 'Time': '18-Jul-20', 'Headlines': \"The Week in Patriarchy  \\n\\n\\n  Bacardi's 'lady vodka': the latest in a long line of depressing gendered products\"}, {'News Organization': 'The Guardian', 'Time': '18-Jul-20', 'Headlines': 'English councils call for smoking ban outside pubs and cafes'}, {'News Organization': 'The Guardian', 'Time': '18-Jul-20', 'Headlines': 'Can Tesla justify a $300bn valuation?'}, {'News Organization': 'The Guardian', 'Time': '18-Jul-20', 'Headlines': \"Empty city centres: 'I’m not sure it will ever be the same again'\"}, {'News Organization': 'The Guardian', 'Time': '18-Jul-20', 'Headlines': \"Democratising finance for all? An investment app for amateurs and a student trader's death\"}, {'News Organization': 'The Guardian', 'Time': '18-Jul-20', 'Headlines': 'Homebuyer loses £300,000 to fraudsters – but gets it back after we step in'}]\n",
      "\n",
      "[{'News Organization': 'Reuters', 'Headlines': 'TikTok considers London and other locations for headquarters', 'Time': 'Jul 18 2020', 'Description': 'TikTok has been in discussions with the UK government over the past few months to locate its headquarters in London, a source familiar with the matter said, as part of a strategy to distance itself from its Chinese ownership.'}, {'News Organization': 'Reuters', 'Headlines': 'Disney cuts ad spending on Facebook amid growing boycott: WSJ', 'Time': 'Jul 18 2020', 'Description': 'Walt Disney  has become the latest company to slash its advertising spending on Facebook Inc  as the social media giant faces an ad boycott over its handling of hate speech and controversial content, the Wall Street Journal reported on Saturday, citing people familiar with the situation.'}, {'News Organization': 'Reuters', 'Headlines': 'Trail of missing Wirecard executive leads to Belarus, Der Spiegel reports', 'Time': 'Jul 18 2020', 'Description': 'Former Wirecard  chief operating officer Jan Marsalek travelled to Minsk soon after he was suspended and may still be in Belarus or Russia, a German magazine reported on Saturday.'}, {'News Organization': 'Reuters', 'Headlines': 'Twitter says attackers downloaded data from up to eight non-verified accounts', 'Time': 'Jul 18 2020', 'Description': 'Twitter Inc said on Saturday that hackers were able to download account information for up to eight accounts involved in the hack of its systems this week, but said none of them were verified accounts.'}, {'News Organization': 'Reuters', 'Headlines': 'U.S. Republicans seek liability protections as coronavirus aid battle looms', 'Time': 'Jul 17 2020', 'Description': 'A battle in the U.S. Congress over a new coronavirus-aid bill began on Friday as Republicans were putting the finishing touches on provisions granting liability protections for a wide range of entities resuming operations amid the pandemic.'}, {'News Organization': 'Reuters', 'Headlines': \"Wall Street Week Ahead: Fund managers navigate 'Night of the Living Dead' in small caps\", 'Time': 'Jul 17 2020', 'Description': 'Investors are searching for bargains in the world of U.S. small-caps, as the beaten-down asset class prepares for what may be the worst earnings season in its history amid a resurgent coronavirus pandemic.'}, {'News Organization': 'Reuters', 'Headlines': 'Take Five: Hoping for that V-shape in earnings', 'Time': 'Jul 17 2020', 'Description': \"We knew Q2 earnings would be dire but the hope was a) they might turn out to be better than feared and b) companies could offer guidance on the outlook. So while expectations are for European Q2 earnings to slump 50%-plus, there's margin for error.\"}, {'News Organization': 'Reuters', 'Headlines': 'Evictions nearly back to pre-pandemic levels in some U.S. areas: Cleveland Fed study', 'Time': 'Jul 17 2020', 'Description': 'Landlords in some areas of the United States are filing to evict rent-delinquent tenants at roughly the same rate they were before the coronavirus pandemic as eviction bans across the country begin to expire, research from the Federal Reserve Bank of Cleveland showed on Friday.'}, {'News Organization': 'Reuters', 'Headlines': 'Google bans ads on coronavirus conspiracy theory content', 'Time': 'Jul 17 2020', 'Description': 'Alphabet Inc\\'s Google said on Friday it would prohibit websites and apps that use its advertising technology from running ads on \"dangerous content\" that goes against scientific consensus during the coronavirus pandemic.'}, {'News Organization': 'Reuters', 'Headlines': 'Flight to suburbs boosts U.S. homebuilding, but COVID-19 surge erodes consumer sentiment', 'Time': 'Jul 17 2020', 'Description': 'U.S. homebuilding increased in June by the most in nearly four years amid reports of rising demand for housing in suburbs and rural areas as companies allow employees to work from home during the COVID-19 pandemic.'}]\n",
      "\n"
     ]
    }
   ],
   "source": [
    "cnbc_documents = list()\n",
    "guardian_documents = list()\n",
    "reuters_documents = list()\n",
    "\n",
    "with open(\"cnbc_headlines.csv\", \"r\", encoding='utf-8') as file:\n",
    "\n",
    "    reader = csv.reader(file)\n",
    "\n",
    "    headers = next(reader)\n",
    "\n",
    "    for row in reader:\n",
    "\n",
    "        data = dict()\n",
    "\n",
    "        data['News Organization'] = 'CNBC'\n",
    "\n",
    "        i = 0\n",
    "\n",
    "        for h in headers:\n",
    "\n",
    "            data[h] = row[i]\n",
    "            i += 1\n",
    "        \n",
    "        cnbc_documents.append(data)\n",
    "\n",
    "\n",
    "with open(\"guardian_headlines.csv\", \"r\", encoding='utf-8') as file:\n",
    "\n",
    "    reader = csv.reader(file)\n",
    "\n",
    "    headers = next(reader)\n",
    "\n",
    "    for row in reader:\n",
    "\n",
    "        data = dict()\n",
    "\n",
    "        data['News Organization'] = 'The Guardian'\n",
    "\n",
    "        i = 0\n",
    "\n",
    "        for h in headers:\n",
    "\n",
    "            data[h] = row[i]\n",
    "            i += 1\n",
    "        \n",
    "        guardian_documents.append(data)\n",
    "\n",
    "\n",
    "with open(\"reuters_headlines.csv\", \"r\", encoding='utf-8') as file:\n",
    "\n",
    "    reader = csv.reader(file)\n",
    "\n",
    "    headers = next(reader)\n",
    "\n",
    "    for row in reader:\n",
    "\n",
    "        data = dict()\n",
    "\n",
    "        data['News Organization'] = 'Reuters'\n",
    "\n",
    "        i = 0\n",
    "\n",
    "        for h in headers:\n",
    "\n",
    "            data[h] = row[i]\n",
    "            i += 1\n",
    "        \n",
    "        reuters_documents.append(data)\n",
    "\n",
    "\n",
    "print(cnbc_documents[:10])\n",
    "print()\n",
    "\n",
    "print(guardian_documents[:10])\n",
    "print()\n",
    "\n",
    "print(reuters_documents[:10])\n",
    "print()"
   ]
  },
  {
   "cell_type": "code",
   "execution_count": 129,
   "metadata": {},
   "outputs": [],
   "source": [
    "def index_documents(index, id, document):\n",
    "    \n",
    "    resp = es.index(index=index, id=id, document=document)\n"
   ]
  },
  {
   "cell_type": "code",
   "execution_count": 130,
   "metadata": {},
   "outputs": [],
   "source": [
    "for i in range(len(cnbc_documents)):\n",
    "    \n",
    "    es.index(index = \"cnbc_index\", id = i + 1, document = cnbc_documents[i])\n",
    "\n",
    "for i in range(len(guardian_documents)):\n",
    "    \n",
    "    es.index(index = \"guardian_index\", id = i + 1, document = guardian_documents[i])\n",
    "\n",
    "for i in range(len(reuters_documents)):\n",
    "    \n",
    "    es.index(index = \"reuters_index\", id = i + 1, document = reuters_documents[i])"
   ]
  },
  {
   "cell_type": "code",
   "execution_count": 131,
   "metadata": {},
   "outputs": [
    {
     "name": "stdout",
     "output_type": "stream",
     "text": [
      "{'News Organization': 'CNBC', 'Headlines': 'Jim Cramer: A better way to invest in the Covid-19 vaccine gold rush', 'Time': ' 7:51  PM ET Fri, 17 July 2020', 'Description': '\"Mad Money\" host Jim Cramer recommended buying four companies that are supporting vaccine developers.'}\n",
      "\n",
      "{'News Organization': 'The Guardian', 'Time': '18-Jul-20', 'Headlines': 'Johnson is asking Santa for a Christmas recovery'}\n",
      "\n",
      "{'News Organization': 'Reuters', 'Headlines': 'TikTok considers London and other locations for headquarters', 'Time': 'Jul 18 2020', 'Description': 'TikTok has been in discussions with the UK government over the past few months to locate its headquarters in London, a source familiar with the matter said, as part of a strategy to distance itself from its Chinese ownership.'}\n",
      "\n"
     ]
    }
   ],
   "source": [
    "resp = es.get(index=\"cnbc_index\", id=1)\n",
    "print(resp['_source'])\n",
    "print()\n",
    "\n",
    "resp = es.get(index=\"guardian_index\", id=1)\n",
    "print(resp['_source'])\n",
    "print()\n",
    "\n",
    "resp = es.get(index=\"reuters_index\", id=1)\n",
    "print(resp['_source'])\n",
    "print()"
   ]
  },
  {
   "cell_type": "code",
   "execution_count": 132,
   "metadata": {},
   "outputs": [],
   "source": [
    "\n",
    "def search_query(query, datasets_to_search, index_names):\n",
    "    \n",
    "    body = {\n",
    "        \"size\": 20,\n",
    "        \"query\": {\n",
    "            \"dis_max\": {\n",
    "                \"queries\": [\n",
    "                    {\"match\": {\"Headlines\": query}},\n",
    "                    {\"match\": {\"Description\": query}}\n",
    "                ],\n",
    "                \"tie_breaker\": 0.3\n",
    "            }\n",
    "        }\n",
    "    }\n",
    "\n",
    "    results = []\n",
    "\n",
    "    for i in range(len(datasets_to_search)):\n",
    "\n",
    "        resp = es.search(index=index_names[i], body=body)\n",
    "\n",
    "        for hit in resp['hits']['hits']:\n",
    "            \n",
    "            news_organization = hit[\"_source\"].get('News Organization')\n",
    "            headline = hit[\"_source\"].get('Headlines')\n",
    "            time = hit[\"_source\"].get('Time')\n",
    "            description = hit[\"_source\"].get('Description')\n",
    "\n",
    "            formatted_result = f\"'News Organization': {news_organization}\\nHeadline: {headline}\\nTime: {time}\\nDescription: {description}\\n\\n\"\n",
    "            \n",
    "            formatted_result = formatted_result.replace('\\n', '<br>')\n",
    "\n",
    "            results.append(formatted_result)\n",
    "\n",
    "    return results\n"
   ]
  },
  {
   "cell_type": "code",
   "execution_count": 133,
   "metadata": {},
   "outputs": [
    {
     "name": "stdout",
     "output_type": "stream",
     "text": [
      " * Serving Flask app '__main__'\n",
      " * Debug mode: off\n"
     ]
    },
    {
     "name": "stderr",
     "output_type": "stream",
     "text": [
      "WARNING: This is a development server. Do not use it in a production deployment. Use a production WSGI server instead.\n",
      " * Running on http://127.0.0.1:5000\n",
      "Press CTRL+C to quit\n",
      "127.0.0.1 - - [30/Nov/2023 09:11:32] \"GET / HTTP/1.1\" 200 -\n",
      "127.0.0.1 - - [30/Nov/2023 09:11:32] \"GET /favicon.ico HTTP/1.1\" 404 -\n",
      "127.0.0.1 - - [30/Nov/2023 09:11:41] \"POST / HTTP/1.1\" 200 -\n",
      "127.0.0.1 - - [30/Nov/2023 09:12:08] \"POST / HTTP/1.1\" 200 -\n",
      "127.0.0.1 - - [30/Nov/2023 09:12:51] \"POST / HTTP/1.1\" 200 -\n",
      "127.0.0.1 - - [30/Nov/2023 09:13:39] \"POST / HTTP/1.1\" 200 -\n"
     ]
    }
   ],
   "source": [
    "app = Flask(__name__)\n",
    "\n",
    "@app.route('/', methods=['GET', 'POST'])\n",
    "def homepage():\n",
    "\n",
    "    results = []\n",
    "\n",
    "    if request.method == 'POST':\n",
    "\n",
    "        query = request.form.get('search_query')\n",
    "\n",
    "        datasets_to_search = list()\n",
    "        index_names = list()\n",
    "\n",
    "        if request.form.get('cnbc'):\n",
    "\n",
    "            datasets_to_search.append(cnbc_documents)\n",
    "            index_names.append(\"cnbc_index\")\n",
    "        \n",
    "        if request.form.get('the guardian'):\n",
    "\n",
    "            datasets_to_search.append(guardian_documents)\n",
    "            index_names.append(\"guardian_index\")\n",
    "        \n",
    "        if request.form.get('reuters'):\n",
    "\n",
    "            datasets_to_search.append(reuters_documents)\n",
    "            index_names.append(\"reuters_index\")\n",
    "\n",
    "        results = search(query, datasets_to_search, index_names)\n",
    "    \n",
    "    return render_template('test.html', results=results)\n",
    "\n",
    "def search(query, datasets_to_search, index_names):\n",
    "\n",
    "    return search_query(query, datasets_to_search, index_names)\n",
    "\n",
    "\n",
    "app.run(debug=False)"
   ]
  },
  {
   "cell_type": "code",
   "execution_count": null,
   "metadata": {},
   "outputs": [],
   "source": []
  }
 ],
 "metadata": {
  "kernelspec": {
   "display_name": "Python 3 (ipykernel)",
   "language": "python",
   "name": "python3"
  },
  "language_info": {
   "codemirror_mode": {
    "name": "ipython",
    "version": 3
   },
   "file_extension": ".py",
   "mimetype": "text/x-python",
   "name": "python",
   "nbconvert_exporter": "python",
   "pygments_lexer": "ipython3",
   "version": "3.11.5"
  }
 },
 "nbformat": 4,
 "nbformat_minor": 5
}
